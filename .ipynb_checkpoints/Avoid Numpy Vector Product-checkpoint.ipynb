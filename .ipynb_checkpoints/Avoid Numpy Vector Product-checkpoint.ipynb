{
 "cells": [
  {
   "cell_type": "code",
   "execution_count": 1,
   "metadata": {},
   "outputs": [
    {
     "name": "stdout",
     "output_type": "stream",
     "text": [
      "[ 0.60000977 -0.17105801  0.3952281   0.38109746  0.90027823]\n"
     ]
    }
   ],
   "source": [
    "import numpy as np\n",
    "\n",
    "a = np.random.randn(5)\n",
    "\n",
    "print(a)\n",
    "# this is a single vector, if we multiply with matrix we will get wrong result"
   ]
  },
  {
   "cell_type": "code",
   "execution_count": 2,
   "metadata": {},
   "outputs": [
    {
     "name": "stdout",
     "output_type": "stream",
     "text": [
      "(5,)\n"
     ]
    }
   ],
   "source": [
    "print(a.shape)"
   ]
  },
  {
   "cell_type": "code",
   "execution_count": 3,
   "metadata": {},
   "outputs": [
    {
     "name": "stdout",
     "output_type": "stream",
     "text": [
      "[ 0.60000977 -0.17105801  0.3952281   0.38109746  0.90027823]\n"
     ]
    }
   ],
   "source": [
    "print(a.T)"
   ]
  },
  {
   "cell_type": "code",
   "execution_count": 4,
   "metadata": {},
   "outputs": [
    {
     "name": "stdout",
     "output_type": "stream",
     "text": [
      "1.5012139787089585\n"
     ]
    }
   ],
   "source": [
    "print(np.dot(a, a.T))\n",
    "# Wrong result!!!! because when we print the inner product, we dont get matrix but only a number\n",
    "# Suggestion the shape not a vector (5,) but a matrix at least (5,1)"
   ]
  },
  {
   "cell_type": "code",
   "execution_count": 5,
   "metadata": {},
   "outputs": [
    {
     "name": "stdout",
     "output_type": "stream",
     "text": [
      "[[-2.39128469]\n",
      " [ 1.05563132]\n",
      " [ 1.63602157]\n",
      " [-0.07756852]\n",
      " [-0.18221855]]\n"
     ]
    }
   ],
   "source": [
    "# Solution\n",
    "\n",
    "a = np.random.randn(5,1) # at least creating a matrix with one dim (5,1)\n",
    "print(a)"
   ]
  },
  {
   "cell_type": "code",
   "execution_count": 6,
   "metadata": {},
   "outputs": [
    {
     "name": "stdout",
     "output_type": "stream",
     "text": [
      "[[-2.39128469  1.05563132  1.63602157 -0.07756852 -0.18221855]]\n"
     ]
    }
   ],
   "source": [
    "print(a.T)\n",
    "# result below has two square brackets, meaning that it is a matrix"
   ]
  },
  {
   "cell_type": "code",
   "execution_count": 7,
   "metadata": {},
   "outputs": [
    {
     "name": "stdout",
     "output_type": "stream",
     "text": [
      "[[ 5.71824246 -2.524315   -3.91219334  0.18548842  0.43573642]\n",
      " [-2.524315    1.11435747  1.72703561 -0.08188376 -0.1923556 ]\n",
      " [-3.91219334  1.72703561  2.67656659 -0.12690378 -0.29811347]\n",
      " [ 0.18548842 -0.08188376 -0.12690378  0.00601688  0.01413442]\n",
      " [ 0.43573642 -0.1923556  -0.29811347  0.01413442  0.0332036 ]]\n"
     ]
    }
   ],
   "source": [
    "print(np.dot(a, a.T)) # so, we will get matrix result or we can do a.reshape((5,1))"
   ]
  },
  {
   "cell_type": "code",
   "execution_count": null,
   "metadata": {},
   "outputs": [],
   "source": []
  }
 ],
 "metadata": {
  "kernelspec": {
   "display_name": "Python 3",
   "language": "python",
   "name": "python3"
  },
  "language_info": {
   "codemirror_mode": {
    "name": "ipython",
    "version": 3
   },
   "file_extension": ".py",
   "mimetype": "text/x-python",
   "name": "python",
   "nbconvert_exporter": "python",
   "pygments_lexer": "ipython3",
   "version": "3.6.5"
  }
 },
 "nbformat": 4,
 "nbformat_minor": 2
}
