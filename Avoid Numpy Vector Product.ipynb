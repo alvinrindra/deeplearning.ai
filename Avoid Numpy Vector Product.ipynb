{
 "cells": [
  {
   "cell_type": "code",
   "execution_count": 1,
   "metadata": {},
   "outputs": [
    {
     "name": "stdout",
     "output_type": "stream",
     "text": [
      "[ 0.60000977 -0.17105801  0.3952281   0.38109746  0.90027823]\n"
     ]
    }
   ],
   "source": [
    "import numpy as np\n",
    "\n",
    "a = np.random.randn(5)\n",
    "\n",
    "print(a)\n",
    "# this is a single vector, if we multiply with matrix we will get wrong result"
   ]
  },
  {
   "cell_type": "code",
   "execution_count": 2,
   "metadata": {},
   "outputs": [
    {
     "name": "stdout",
     "output_type": "stream",
     "text": [
      "(5,)\n"
     ]
    }
   ],
   "source": [
    "print(a.shape)"
   ]
  },
  {
   "cell_type": "code",
   "execution_count": 3,
   "metadata": {},
   "outputs": [
    {
     "name": "stdout",
     "output_type": "stream",
     "text": [
      "[ 0.60000977 -0.17105801  0.3952281   0.38109746  0.90027823]\n"
     ]
    }
   ],
   "source": [
    "print(a.T)"
   ]
  },
  {
   "cell_type": "code",
   "execution_count": 4,
   "metadata": {},
   "outputs": [
    {
     "name": "stdout",
     "output_type": "stream",
     "text": [
      "1.5012139787089585\n"
     ]
    }
   ],
   "source": [
    "print(np.dot(a, a.T))\n",
    "# Wrong result!!!! because when we print the inner product, we dont get matrix but only a number\n",
    "# Suggestion the shape not a vector (5,) but a matrix at least (5,1)"
   ]
  },
  {
   "cell_type": "code",
   "execution_count": 5,
   "metadata": {},
   "outputs": [
    {
     "name": "stdout",
     "output_type": "stream",
     "text": [
      "[[-2.39128469]\n",
      " [ 1.05563132]\n",
      " [ 1.63602157]\n",
      " [-0.07756852]\n",
      " [-0.18221855]]\n"
     ]
    }
   ],
   "source": [
    "# Solution\n",
    "\n",
    "a = np.random.randn(5,1) # at least creating a matrix with one dim (5,1) 5 rows and 1 column\n",
    "print(a)"
   ]
  },
  {
   "cell_type": "code",
   "execution_count": 6,
   "metadata": {},
   "outputs": [
    {
     "name": "stdout",
     "output_type": "stream",
     "text": [
      "[[-2.39128469  1.05563132  1.63602157 -0.07756852 -0.18221855]]\n"
     ]
    }
   ],
   "source": [
    "print(a.T)\n",
    "# result below has two square brackets, meaning that it is a matrix"
   ]
  },
  {
   "cell_type": "code",
   "execution_count": 7,
   "metadata": {},
   "outputs": [
    {
     "name": "stdout",
     "output_type": "stream",
     "text": [
      "[[ 5.71824246 -2.524315   -3.91219334  0.18548842  0.43573642]\n",
      " [-2.524315    1.11435747  1.72703561 -0.08188376 -0.1923556 ]\n",
      " [-3.91219334  1.72703561  2.67656659 -0.12690378 -0.29811347]\n",
      " [ 0.18548842 -0.08188376 -0.12690378  0.00601688  0.01413442]\n",
      " [ 0.43573642 -0.1923556  -0.29811347  0.01413442  0.0332036 ]]\n"
     ]
    }
   ],
   "source": [
    "print(np.dot(a, a.T)) # so, we will get matrix result or we can do a.reshape((5,1))"
   ]
  },
  {
   "cell_type": "code",
   "execution_count": 68,
   "metadata": {},
   "outputs": [
    {
     "name": "stdout",
     "output_type": "stream",
     "text": [
      "[[2 2 3]\n",
      " [4 2 2]\n",
      " [0 4 0]\n",
      " [2 1 4]\n",
      " [3 2 4]]\n",
      "[[3]\n",
      " [2]\n",
      " [2]\n",
      " [3]\n",
      " [4]]\n"
     ]
    }
   ],
   "source": [
    "x = np.random.randint(5, size=(5,3))\n",
    "y = np.random.randint(5, size=(5,1))\n",
    "print(x)\n",
    "print(y)"
   ]
  },
  {
   "cell_type": "code",
   "execution_count": 69,
   "metadata": {},
   "outputs": [
    {
     "name": "stdout",
     "output_type": "stream",
     "text": [
      "[[5 5 6]\n",
      " [6 4 4]\n",
      " [2 6 2]\n",
      " [5 4 7]\n",
      " [7 6 8]]\n",
      "(5, 3)\n"
     ]
    }
   ],
   "source": [
    "z = x + y\n",
    "print(z)\n",
    "print(z.shape)"
   ]
  },
  {
   "cell_type": "code",
   "execution_count": 71,
   "metadata": {},
   "outputs": [
    {
     "name": "stdout",
     "output_type": "stream",
     "text": [
      "[[ 6  6  9]\n",
      " [ 8  4  4]\n",
      " [ 0  8  0]\n",
      " [ 6  3 12]\n",
      " [12  8 16]]\n"
     ]
    }
   ],
   "source": [
    "z = x * y\n",
    "print(z) # element-wise / broadcast multiplication is not a matrix / dot multiplication\n",
    "# element-wise = multiplication between (5,3) & (5,1) = (5,3)\n",
    "# Matrix = multiplication between (5,3) & (3,2) = (5,2)"
   ]
  },
  {
   "cell_type": "code",
   "execution_count": 67,
   "metadata": {},
   "outputs": [
    {
     "name": "stdout",
     "output_type": "stream",
     "text": [
      "[[ 1.08837954e+00 -1.81018241e-02  3.72473695e-01]\n",
      " [ 1.54695240e+00 -2.40860227e-02 -2.37877627e-04]\n",
      " [-1.42063292e-01 -1.70026152e-01  1.09732422e+00]\n",
      " [-7.05532142e-01 -1.26202202e+00 -3.25566663e-01]]\n"
     ]
    }
   ],
   "source": [
    "a = np.random.randn(4, 3) # a.shape = (4, 3)\n",
    "b = np.random.randn(3, 2) # b.shape = (3, 2)\n",
    "print(a)"
   ]
  },
  {
   "cell_type": "code",
   "execution_count": 50,
   "metadata": {},
   "outputs": [
    {
     "name": "stdout",
     "output_type": "stream",
     "text": [
      "[[ 0.46110261 -1.67796032]\n",
      " [-1.12878141  0.51775121]\n",
      " [-0.12292278  0.78276171]]\n"
     ]
    }
   ],
   "source": [
    "print(b)"
   ]
  },
  {
   "cell_type": "code",
   "execution_count": 55,
   "metadata": {},
   "outputs": [
    {
     "name": "stdout",
     "output_type": "stream",
     "text": [
      "[[ 2.15718126 -3.77810636]\n",
      " [ 0.9775033  -4.30264966]\n",
      " [-1.65424955  3.9428497 ]\n",
      " [-1.80618793  4.49395894]]\n",
      "(4, 2)\n"
     ]
    }
   ],
   "source": [
    "c = a@b # matrix multiplication / element-wise multiplication\n",
    "print(c)\n",
    "print(c.shape)"
   ]
  },
  {
   "cell_type": "code",
   "execution_count": 72,
   "metadata": {},
   "outputs": [
    {
     "name": "stdout",
     "output_type": "stream",
     "text": [
      "[[-0.99479862  1.10942814]\n",
      " [-1.30060568  1.50544004]\n",
      " [-0.02916028  0.08539877]\n",
      " [ 1.31337417 -0.15955508]]\n"
     ]
    }
   ],
   "source": [
    "c_dot = np.dot(a, b)\n",
    "print(c_dot)"
   ]
  },
  {
   "cell_type": "code",
   "execution_count": 73,
   "metadata": {},
   "outputs": [
    {
     "name": "stdout",
     "output_type": "stream",
     "text": [
      "[[ 0.09498393 -0.0060322  -0.05678441]\n",
      " [-0.01571605 -0.74552161 -1.04031606]\n",
      " [-0.48291308 -0.8825677   1.96130844]]\n"
     ]
    }
   ],
   "source": [
    "a = np.random.randn(3, 3)\n",
    "b = np.random.randn(3, 1)\n",
    "c = a*b\n",
    "print(c)\n",
    "#This will invoke broadcasting, \n",
    "#so b is copied three times to become (3,3), and ∗ is an element-wise product so c.shape = (3, 3)."
   ]
  },
  {
   "cell_type": "code",
   "execution_count": null,
   "metadata": {},
   "outputs": [],
   "source": []
  }
 ],
 "metadata": {
  "kernelspec": {
   "display_name": "Python 3",
   "language": "python",
   "name": "python3"
  },
  "language_info": {
   "codemirror_mode": {
    "name": "ipython",
    "version": 3
   },
   "file_extension": ".py",
   "mimetype": "text/x-python",
   "name": "python",
   "nbconvert_exporter": "python",
   "pygments_lexer": "ipython3",
   "version": "3.6.5"
  }
 },
 "nbformat": 4,
 "nbformat_minor": 2
}
